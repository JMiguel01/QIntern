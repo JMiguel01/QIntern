{
  "nbformat": 4,
  "nbformat_minor": 0,
  "metadata": {
    "colab": {
      "provenance": [],
      "toc_visible": true
    },
    "kernelspec": {
      "name": "python3",
      "display_name": "Python 3"
    },
    "language_info": {
      "name": "python"
    }
  },
  "cells": [
    {
      "cell_type": "markdown",
      "source": [
        "\n",
        "\n",
        "<img src= 'https://drive.google.com/uc?id=1xdVzkiGmDCt9xj0qBsG2k5_4BW5DeQ_u' align='right'>\n",
        "\n",
        "<img src='https://drive.google.com/uc?id=1wKDaPnMhqm73TFSsPGA0i4Ru6IkmZt3o' align='left'>\n",
        "\n",
        "\n",
        "\n",
        "# **Problemas HOBO a problemas QUBO**\n",
        "\n",
        "\n",
        "\n"
      ],
      "metadata": {
        "id": "jKmDcpCGPOPf"
      }
    },
    {
      "cell_type": "markdown",
      "source": [
        "# Tabla de Contenido\n",
        "\n",
        "1.   Quadratic Unconstrained Binary Optimization problems, problemas QUBO.\n",
        "\n",
        "2.   Definición.\n",
        "\n",
        "3.   Ejemplo.\n",
        "\n",
        "4.   Higher Order Binary Optimization problems, problemas HOBO.\n",
        "\n",
        "5.   Definición.\n",
        "\n",
        "6.   Ejemplo.\n",
        "\n",
        "7.   HOBO $⇒$ QUBO\n",
        "\n",
        "8.   Quadratization\n",
        "\n"
      ],
      "metadata": {
        "id": "qULR3o6gHXyA"
      }
    },
    {
      "cell_type": "markdown",
      "source": [
        "Recordemos que significa que un polinomio sea de grado 2, o cuadrático:\n",
        "\n",
        "Un polinomio con una o más variables en la que el término de grado más alto es de segundo grado se le conoce como polinomio cuadrático.\n",
        "\n",
        "Por ejemplo:\n",
        "\n",
        "\n",
        "\n",
        "*   $x^2+2y^2+3xy+4x+5y+6$\n",
        "*   $x^2+4x+4$\n",
        "*  $5xy+8xz+9yz-\\frac{2}{3}xy-\\sqrt{2}z^2$\n",
        "\n",
        "\n",
        "\n",
        "\n",
        "\n",
        "\n",
        "\n",
        "\n",
        "\n",
        "\n",
        "\n",
        "\n",
        "\n"
      ],
      "metadata": {
        "id": "F0Fxv2951aOU"
      }
    },
    {
      "cell_type": "markdown",
      "source": [
        "\n",
        "#  **Quadratic Unconstrained Binary Optimization problems**, problemas QUBO."
      ],
      "metadata": {
        "id": "9iCDKY_wBmzE"
      }
    },
    {
      "cell_type": "markdown",
      "source": [
        "Son problemas de minimización en los que la función de coste es un polinomio cuadrático sobre variables binarias sin restricciones. Más explícitamente, son problemas de la forma\n",
        "\n",
        "\\begin{equation*}\n",
        "\\begin{aligned}\n",
        "\\text{Minimizar} \\quad & q\\left(x_0, \\ldots, x_m\\right)\\\\\n",
        "\\textrm{sujeto a} \\quad & x_j \\in \\{0,1\\}, \\quad j = 0, \\ldots, m, \\\\\n",
        "\\end{aligned}\n",
        "\\end{equation*}\n",
        "\n",
        "donde $q\\left( x_0, \\ldots, x_m \\right)$ es un polinomio cuadrático, o de grado 2 y $x_j$ son variables binarias. [1]\n",
        "\n"
      ],
      "metadata": {
        "id": "U77TvmVkQ5_I"
      }
    },
    {
      "cell_type": "markdown",
      "source": [
        "## **Ejemplo:**\n",
        "\n",
        "\\begin{array}{ccc}\n",
        "\\textbf{Departamento} & \\textbf{Número de Servidores} & \\textbf{No son tan amigos} \\\\\n",
        "\\text{Química} & 1 & \\text{Biología} \\\\\n",
        "\\text{Informática} & 5 & \\text{Física y Geología} \\\\\n",
        "\\text{Física} & 3 & \\text{Geología e Informática} & \\\\\n",
        "\\text{Biología} & 2 & \\text{Geología} \\\\\n",
        "\\text{Geología} & 2 & \\text{Física e Informática}\\\\\n",
        "\\end{array}"
      ],
      "metadata": {
        "id": "9ysKQUArRp0R"
      }
    },
    {
      "cell_type": "markdown",
      "source": [
        "Supongamos que llega el **Departamento de Matemáticas** para crear la alianza más grande posible, de tal manera que pueda tener acceso al mayor número de servidores.\n",
        "\n",
        "¿A qué departamento tendrá que enviar la propuesta de tal fomra que consiga maximizar el número de servidores para su uso?\n"
      ],
      "metadata": {
        "id": "xLY0Zuy5eH-J"
      }
    },
    {
      "cell_type": "markdown",
      "source": [
        "\\begin{equation*}\n",
        "\\begin{aligned}\n",
        "f(x_1,x_2,x_3,x_4,x_5) & = x_1 \\cdot 1 + x_2 \\cdot 5 + x_3 \\cdot 3 + x_4 \\cdot 2+ x_5 \\cdot 2 \\\\\n",
        "& - x_1 \\cdot x_4 \\cdot (1+2) - x_2 \\cdot x_3 \\cdot (1+3) - x_2 \\cdot x_5 \\cdot (5+2)  - x_3 \\cdot x_5 \\cdot (3+2)\n",
        "\\end{aligned}\n",
        "\\end{equation*}\n",
        "\n"
      ],
      "metadata": {
        "id": "jcaON5ZaeQcB"
      }
    },
    {
      "cell_type": "markdown",
      "source": [
        "\\begin{equation*}\n",
        "\\begin{aligned}\n",
        "\\text{Minimizar} \\quad & -f\\left(x_1, \\ldots, x_5 \\right)\\\\\n",
        "\\textrm{sujeto a} \\quad & x_j \\in \\{0,1\\}, \\text{ para} \\quad j = 0, \\ldots, 5. \\\\\n",
        "\\end{aligned}\n",
        "\\end{equation*}"
      ],
      "metadata": {
        "id": "rB6Qu6HR4YBv"
      }
    },
    {
      "cell_type": "markdown",
      "source": [
        "QUBO puede verse como el hamiltoniano de Ising mediante una sustitución adecuada:\n",
        "\n",
        "$$x_i= (1-z_i)/2,$$\n",
        "\n",
        "donde\n",
        "\n",
        "\n",
        "*   $z_i = 1$ si el Departamento $x_i$ acepta  \n",
        "*   $z_i = -1$ si el Departamento $x_i$ no acepta\n",
        "\n",
        "Por lo que tendremos que:\n"
      ],
      "metadata": {
        "id": "ZvqpuDoQ63ap"
      }
    },
    {
      "cell_type": "code",
      "source": [
        "from sympy import symbols,pprint, collect, factor\n",
        "from sympy import *\n",
        "x = []\n",
        "name = \"x\"\n",
        "for i in range(0,31):\n",
        "    v = symbols(name+str(i))\n",
        "    x.append(v)\n",
        "y = []\n",
        "name = \"y\"\n",
        "for i in range(0,31):\n",
        "    v = symbols(name+str(i))\n",
        "    y.append(v)\n",
        "z = []\n",
        "name = \"z\"\n",
        "for i in range(0,31):\n",
        "    v = symbols(name+str(i))\n",
        "    z.append(v)\n",
        "\n",
        "def substitute_2(x,i):\n",
        "  return((1-z[i])/2)\n",
        "\n",
        "f = x[1]+5*x[2]+3*x[3]+2*x[4]+2*x[5]-3*x[1]*x[4]-4*x[2]*x[3]-7*x[2]*x[5]-5*x[3]*x[5]"
      ],
      "metadata": {
        "id": "Fz2U8VD2-C1Z"
      },
      "execution_count": 9,
      "outputs": []
    },
    {
      "cell_type": "code",
      "source": [
        "expand(substitute_2(x,1)+5*substitute_2(x,2)+3*substitute_2(x,3)+2*substitute_2(x,4)+2*substitute_2(x,5)-3*substitute_2(x,1)*substitute_2(x,4)-4*substitute_2(x,2)*substitute_2(x,3)-7*substitute_2(x,2)*substitute_2(x,5)-5*substitute_2(x,3)*substitute_2(x,5))"
      ],
      "metadata": {
        "colab": {
          "base_uri": "https://localhost:8080/",
          "height": 51
        },
        "id": "xBXb7ngb-WpO",
        "outputId": "94ab4506-530c-4e83-df39-03b7e469f561"
      },
      "execution_count": 8,
      "outputs": [
        {
          "output_type": "execute_result",
          "data": {
            "text/plain": [
              "-3*z1*z4/4 + z1/4 - z2*z3 - 7*z2*z5/4 + z2/4 - 5*z3*z5/4 + 3*z3/4 - z4/4 + 2*z5 + 7/4"
            ],
            "text/latex": "$\\displaystyle - \\frac{3 z_{1} z_{4}}{4} + \\frac{z_{1}}{4} - z_{2} z_{3} - \\frac{7 z_{2} z_{5}}{4} + \\frac{z_{2}}{4} - \\frac{5 z_{3} z_{5}}{4} + \\frac{3 z_{3}}{4} - \\frac{z_{4}}{4} + 2 z_{5} + \\frac{7}{4}$"
          },
          "metadata": {},
          "execution_count": 8
        }
      ]
    },
    {
      "cell_type": "markdown",
      "source": [
        "\\begin{equation*}\n",
        "\\begin{aligned}\n",
        "f(z_1,z_2,z_3,z_4,z_5) & = -\\frac{3}{4} \\cdot z_1 \\cdot z_4 + \\frac{1}{4}z_1 - z_2 \\cdot z_3\\\\\n",
        "& - \\frac{7}{4} \\cdot z_2 \\cdot z_5 + \\frac{1}{4}z_2 - \\frac{5}{4} \\cdot z_3 \\cdot z_5\\\\\n",
        "& + \\frac{3}{4} \\cdot z_3 - \\frac{1}{4} z_4 + 2 \\cdot z_5 + \\frac{7}{4},\n",
        "\\end{aligned}\n",
        "\\end{equation*}\n",
        "\n",
        "será el hamiltoniano que codifica las asignaciones que satisfacen la fórmula booleana."
      ],
      "metadata": {
        "id": "QSVbLL6O-DSI"
      }
    },
    {
      "cell_type": "markdown",
      "source": [
        "# **HOBO**"
      ],
      "metadata": {
        "id": "aZp8-MR8KmMf"
      }
    },
    {
      "cell_type": "markdown",
      "source": [
        "Ahora bien, los problemas de optimización en los que se nos pide minimizar un polinomio binario de cualquier grado, sin restricciones adicionales, se denominan problemas **Higher Order Binary Optimization problems**, **HOBO** , o **Polynomial Unconstrained Binary Optimization problems**, **PUBO**.\n",
        "\n"
      ],
      "metadata": {
        "id": "M2YCVSK6Q6Kf"
      }
    },
    {
      "cell_type": "markdown",
      "source": [
        "\\begin{equation*}\n",
        "\\begin{aligned}\n",
        "\\text{Minimizar} \\quad & q\\left(x_0, \\ldots, x_m\\right)\\\\\n",
        "\\textrm{sujeto a} \\quad & x_j \\in \\{0,1\\}, \\quad j = 0, \\ldots, m, \\\\\n",
        "\\end{aligned}\n",
        "\\end{equation*}\n",
        "\n",
        "donde $q\\left( x_0, \\ldots, x_m \\right)$ es un polinomio de grado mayor que 2 y $x_j$ son variables binarias. [1]"
      ],
      "metadata": {
        "id": "a6xxW_865PPx"
      }
    },
    {
      "cell_type": "markdown",
      "source": [
        "## **Ejemplo:**"
      ],
      "metadata": {
        "id": "VVjb1IqbK6Pm"
      }
    },
    {
      "cell_type": "markdown",
      "source": [
        "Como ejemplo, considere la siguiente fórmula booleana sobre variables binarias, dada en forma normal conjuntiva (CNF),\n",
        "\n",
        "\\begin{equation*}\n",
        "        \\left( x_0 \\vee \\sim x_1 \\vee \\sim x_2 \\right) \\wedge \\left(\\sim x_0 \\vee x_1 \\vee \\sim x_2 \\right) \\wedge \\left(x_0 \\vee x_1 \\vee x_2 \\right). %\\wedge  \\left(x_1 \\vee \\sim x_2 \\vee \\sim x_3 \\right) \\wedge \\left(\\sim x_1  \\vee x_2 \\vee x_3\\right)\n",
        "\\end{equation*}\n",
        "\n",
        "Queremos determinar las asignaciones de valores que hacen que la fórmula sea verdadera, si existen. [1]"
      ],
      "metadata": {
        "id": "U0P32su6K4ss"
      }
    },
    {
      "cell_type": "code",
      "source": [
        "(x[0] | ( ~ x[1]) | x[2]) & (~ x[0] | x [1] | ~x[2]) & (x[0] | x[1] | x[2])"
      ],
      "metadata": {
        "colab": {
          "base_uri": "https://localhost:8080/",
          "height": 39
        },
        "id": "L0HzSDtd8spg",
        "outputId": "867f1aaa-d99b-4340-8ee1-8d003daff1e2"
      },
      "execution_count": null,
      "outputs": [
        {
          "output_type": "execute_result",
          "data": {
            "text/plain": [
              "(x0 | x1 | x2) & (x0 | x2 | ~x1) & (x1 | ~x0 | ~x2)"
            ],
            "text/latex": "$\\displaystyle \\left(x_{0} \\vee x_{1} \\vee x_{2}\\right) \\wedge \\left(x_{0} \\vee x_{2} \\vee \\neg x_{1}\\right) \\wedge \\left(x_{1} \\vee \\neg x_{0} \\vee \\neg x_{2}\\right)$"
          },
          "metadata": {},
          "execution_count": 9
        }
      ]
    },
    {
      "cell_type": "code",
      "source": [
        "satisfiable((x[0] | ( ~ x[1]) | x[2]) & (~ x[0] | x [1] | ~x[2]) & (x[0] | x[1] | x[2]))"
      ],
      "metadata": {
        "colab": {
          "base_uri": "https://localhost:8080/"
        },
        "id": "T6C1omy46LS1",
        "outputId": "f9458235-c739-4f0d-88a1-49c97380fc7f"
      },
      "execution_count": null,
      "outputs": [
        {
          "output_type": "execute_result",
          "data": {
            "text/plain": [
              "{x1: True, x2: True, x0: True}"
            ]
          },
          "metadata": {},
          "execution_count": 10
        }
      ]
    },
    {
      "cell_type": "markdown",
      "source": [
        "Para ello, reescribamos el problema como una instancia de un problema **HOBO** al asignar las operaciones:\n",
        "\n",
        "\\begin{equation*}\n",
        "\\begin{aligned}\n",
        "x \\vee y \\quad & \\rightarrow \\quad xy \\\\\n",
        "x \\wedge y \\quad & \\rightarrow \\quad x+y \\\\\n",
        "x \\quad & \\rightarrow \\quad 1-x \\\\\n",
        "\\end{aligned}\n",
        "\\end{equation*}\n",
        "\n",
        "\n",
        "\n",
        "\n",
        "respectivamente, de modo que pueda representarse como el polinomio,\n",
        "\n",
        "\\begin{align*}\n",
        "    q(x_0,x_1,x_2)&=\\left(1-x_0\\right)x_1\\left(1-x_2\\right)+x_0\\left(1-x_1\\right)x_2+\\left(1-x_0\\right)\\left(1-x_1\\right)\\left(1-x_2\\right)\\\\\n",
        "    &=-x_0x_1x_2 + 2x_0x_2 - x_0 - x_2 + 1.\n",
        "\\end{align*} [1]\n",
        "\n"
      ],
      "metadata": {
        "id": "x9FWmoV_S3y1"
      }
    },
    {
      "cell_type": "code",
      "source": [
        "def q(x,y,z):\n",
        "  return((1-x)*y*(1-z)+x*(1-y)*z+(1-x)*(1-y)*(1-z))"
      ],
      "metadata": {
        "id": "MQ1XoURm1YBl"
      },
      "execution_count": null,
      "outputs": []
    },
    {
      "cell_type": "markdown",
      "source": [
        "Por lo que nuestro problema se convierte en:\n",
        "\n",
        "\\begin{equation*}\n",
        "\\begin{aligned}\n",
        "\\text{Minimizar} \\quad & q\\left(x_0, x_1, x_1\\right)\\\\\n",
        "\\textrm{sujeto a} \\quad & x_0,x_1,x_2 \\in \\{0,1\\}. \\\\\n",
        "\\end{aligned}\n",
        "\\end{equation*}\n"
      ],
      "metadata": {
        "id": "Db7SuAGWTQIK"
      }
    },
    {
      "cell_type": "markdown",
      "source": [
        "Por lo tanto, si el mínimo del polinomio es $0$, entonces la fórmula será satisfacible. De lo contrario, la fórmula será insatisfacible."
      ],
      "metadata": {
        "id": "WaOvFwiCWLbk"
      }
    },
    {
      "cell_type": "markdown",
      "source": [
        "**Fuerza Bruta**"
      ],
      "metadata": {
        "id": "FRBrNB1h6xv8"
      }
    },
    {
      "cell_type": "code",
      "source": [
        "aC41 = []\n",
        "AC41 = []\n",
        "for i in range(0,2**3):\n",
        "  aC41.append('{0:03b}'.format(i))\n",
        "  if (q(int(aC41[i][0]),int(aC41[i][1]),int(aC41[i][2]))==0):\n",
        "    AC41.append([q(int(aC41[i][0]),int(aC41[i][1]),int(aC41[i][2])) ,aC41[i]])\n",
        "AC41"
      ],
      "metadata": {
        "colab": {
          "base_uri": "https://localhost:8080/"
        },
        "id": "Kt3mE103Mopm",
        "outputId": "32caafe3-dc66-47e1-8c27-219d941a4ed1"
      },
      "execution_count": null,
      "outputs": [
        {
          "output_type": "execute_result",
          "data": {
            "text/plain": [
              "[[0, '001'], [0, '011'], [0, '100'], [0, '110'], [0, '111']]"
            ]
          },
          "metadata": {},
          "execution_count": 12
        }
      ]
    },
    {
      "cell_type": "markdown",
      "source": [
        "## **HOBO ⇒ QUBO**"
      ],
      "metadata": {
        "id": "hZWYCV3xLDQS"
      }
    },
    {
      "cell_type": "markdown",
      "source": [
        "Ahora, una forma de resolver este problema **HOBO** es transformándolo en un problema **QUBO** introduciendo variables auxiliares, de modo que la función objetivo sea un polinomio cuadrático binario."
      ],
      "metadata": {
        "id": "1a1rnhMFVbBb"
      }
    },
    {
      "cell_type": "markdown",
      "source": [
        "## **Quadratization** (Cuadratización)"
      ],
      "metadata": {
        "id": "tbc2vW6DLLRo"
      }
    },
    {
      "cell_type": "markdown",
      "source": [
        "Definción: Dada una función pseudo-Booleana $f(x)$ en $\\left\\{0,1\\right\\}^n$, una función $g(x,y)$ es una quadratization de $f$ si $g(x,y)$ es un polinomio cuadratico que depende de las variables originales $x \\in \\left\\{0,1\\right\\}^n$ y un conjunto de variables auxiliares $y \\in \\left\\{0,1\\right\\}^n$ tal que\n",
        "\n",
        "$$ f(x)= \\text{min} \\left\\{ g(x,y) : y \\in \\left\\{0,1\\right\\}^n \\text{ for all } x \\in \\left\\{0,1\\right\\}^n  \\right\\}$$\n",
        "\n",
        "\n",
        "Uno de los procedimientos propuestos para la cuadratización es el que propone Rosenberg [2] y es el siguiente:\n",
        "\n",
        "\n",
        "*   Se eligen dos variables $x_i$, $x_j$ de modo que el producto $x_ix_j$ aparezca en un término con grado al menos 3.\n",
        "*   Se reemplaza cada ocurrencia de $x_ix_j$ con una nueva variable $y_j$.\n",
        "\n",
        "*   Se agrega el término de penalización $C(x_ix_j - 2x_iy_{ij} -2x_jy_{ij} +3y_{ij})$ donde $C$ es una constante.\n"
      ],
      "metadata": {
        "id": "DrBT-796LPdT"
      }
    },
    {
      "cell_type": "markdown",
      "source": [],
      "metadata": {
        "id": "-L3FkWRTRA2Q"
      }
    },
    {
      "cell_type": "code",
      "source": [
        "f1 = ((1-x[0])*x[1]*(1-x[2]))+x[0]*(1-x[1])*x[2]+(1-x[0])*(1-x[1])*(1-x[2])\n",
        "p1 = f1.expand()\n",
        "p1"
      ],
      "metadata": {
        "colab": {
          "base_uri": "https://localhost:8080/",
          "height": 39
        },
        "id": "TQTg_4PbifGn",
        "outputId": "00407f8e-a5d3-4cfa-929d-3a0fd5175b77"
      },
      "execution_count": null,
      "outputs": [
        {
          "output_type": "execute_result",
          "data": {
            "text/plain": [
              "-x0*x1*x2 + 2*x0*x2 - x0 - x2 + 1"
            ],
            "text/latex": "$\\displaystyle - x_{0} x_{1} x_{2} + 2 x_{0} x_{2} - x_{0} - x_{2} + 1$"
          },
          "metadata": {},
          "execution_count": 17
        }
      ]
    },
    {
      "cell_type": "code",
      "source": [
        "def substitute(a,b,i):\n",
        "  return(a*b-2*a*y[i]-2*b*y[i]+3*y[i])"
      ],
      "metadata": {
        "id": "Ui5WrLL7lANp"
      },
      "execution_count": 13,
      "outputs": []
    },
    {
      "cell_type": "markdown",
      "source": [
        "De nuevo hacemos la sustitución\n",
        "\n",
        "$$x_i= (1-z_i)/2,$$\n",
        "\n",
        "Por lo que tendremos que:"
      ],
      "metadata": {
        "id": "E5LSRZXHE3qq"
      }
    },
    {
      "cell_type": "code",
      "source": [
        "f2 = -y[1]*x[2] +substitute(x[0],x[1],1) +2*x[0]*x[2]-x[0]-x[2]+1\n",
        "f2"
      ],
      "metadata": {
        "colab": {
          "base_uri": "https://localhost:8080/",
          "height": 39
        },
        "id": "kb1oWvV_qV4v",
        "outputId": "686d9dc9-d59e-4f08-aece-fa8207ade297"
      },
      "execution_count": 14,
      "outputs": [
        {
          "output_type": "execute_result",
          "data": {
            "text/plain": [
              "x0*x1 + 2*x0*x2 - 2*x0*y1 - x0 - 2*x1*y1 - x2*y1 - x2 + 3*y1 + 1"
            ],
            "text/latex": "$\\displaystyle x_{0} x_{1} + 2 x_{0} x_{2} - 2 x_{0} y_{1} - x_{0} - 2 x_{1} y_{1} - x_{2} y_{1} - x_{2} + 3 y_{1} + 1$"
          },
          "metadata": {},
          "execution_count": 14
        }
      ]
    },
    {
      "cell_type": "code",
      "source": [
        "expand(substitute_2(x,0)*substitute_2(x,1)+2*substitute_2(x,0)*substitute_2(x,2)-2*substitute_2(x,0)*substitute_2(y,3)-substitute_2(x,0)-2*substitute_2(x,1)*substitute_2(y,3)-substitute_2(x,2)*substitute_2(y,3)-substitute_2(x,2)+3*substitute_2(y,3)+1)"
      ],
      "metadata": {
        "colab": {
          "base_uri": "https://localhost:8080/",
          "height": 47
        },
        "id": "pGsxE5FTGM4E",
        "outputId": "948086f3-d34e-4da3-ba30-0b75c0961d1f"
      },
      "execution_count": 17,
      "outputs": [
        {
          "output_type": "execute_result",
          "data": {
            "text/plain": [
              "z0*z1/4 + z0*z2/2 - z0*z3/2 + z0/4 - z1*z3/2 + z1/4 - z2*z3/4 + z2/4 - z3/4 + 1"
            ],
            "text/latex": "$\\displaystyle \\frac{z_{0} z_{1}}{4} + \\frac{z_{0} z_{2}}{2} - \\frac{z_{0} z_{3}}{2} + \\frac{z_{0}}{4} - \\frac{z_{1} z_{3}}{2} + \\frac{z_{1}}{4} - \\frac{z_{2} z_{3}}{4} + \\frac{z_{2}}{4} - \\frac{z_{3}}{4} + 1$"
          },
          "metadata": {},
          "execution_count": 17
        }
      ]
    },
    {
      "cell_type": "markdown",
      "source": [
        "Transformaciones de este tipo se utilizan en D-wave's Ocean, donde puedes encontrar objetos BinaryPolynomial que puedes reducir a polinomios de grado 2 con la función make_cuadratic [3]."
      ],
      "metadata": {
        "id": "tgNI6YYkEbMt"
      }
    },
    {
      "cell_type": "markdown",
      "source": [
        "# **Referencias**\n",
        "\n",
        "[1] J.M. Hernández Cáceres. Algoritmos Cuánticos para Estructuras Algebraicas (Tesis Doctoral en Matemáticas y Estadística). Universidad de Oviedo, (2024).\n",
        "\n",
        "[2] Rosenberg, I.G.: Reduction of bivalent maximization to the quadratic case (1975)\n",
        "\n",
        "[3] E. F. Combarro and S. González-Castillo. A Practical Guide to Quantum Machine\n",
        "Learning and Quantum Optimization: Hands-on Approach to Modern Quantum\n",
        "Algorithms. Packt Publising, ISBN: 978-1804613832, 2023."
      ],
      "metadata": {
        "id": "UUwFpKHNTvuy"
      }
    },
    {
      "cell_type": "code",
      "source": [],
      "metadata": {
        "id": "UQEPmIT8T7_j"
      },
      "execution_count": null,
      "outputs": []
    }
  ]
}